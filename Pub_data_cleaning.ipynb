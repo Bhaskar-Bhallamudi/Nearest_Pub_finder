{
 "cells": [
  {
   "cell_type": "code",
   "execution_count": 1,
   "id": "a2e43b4a",
   "metadata": {},
   "outputs": [],
   "source": [
    "import numpy as np\n",
    "import pandas as pd\n",
    "import seaborn as sns\n",
    "import matplotlib.pyplot as plt"
   ]
  },
  {
   "cell_type": "code",
   "execution_count": 3,
   "id": "5c8f65ce",
   "metadata": {},
   "outputs": [],
   "source": [
    "df = pd.read_csv(r\"C:\\Users\\bhask\\Desktop\\DATA SCIENCE AND ANALYTICS\\Internship_Inno\\FLASK\\Pub_Nearest_project\\resources\\open_pubs.csv\")"
   ]
  },
  {
   "cell_type": "code",
   "execution_count": 13,
   "id": "bc3867b2",
   "metadata": {},
   "outputs": [],
   "source": [
    "#df = pd.read_csv(\"open_pubs.csv\", names=['fsa_id','name','address','postcode','easting','northing','latitude','longitude','local_authority'])"
   ]
  },
  {
   "cell_type": "code",
   "execution_count": 4,
   "id": "ac0cf323",
   "metadata": {},
   "outputs": [
    {
     "data": {
      "text/html": [
       "<div>\n",
       "<style scoped>\n",
       "    .dataframe tbody tr th:only-of-type {\n",
       "        vertical-align: middle;\n",
       "    }\n",
       "\n",
       "    .dataframe tbody tr th {\n",
       "        vertical-align: top;\n",
       "    }\n",
       "\n",
       "    .dataframe thead th {\n",
       "        text-align: right;\n",
       "    }\n",
       "</style>\n",
       "<table border=\"1\" class=\"dataframe\">\n",
       "  <thead>\n",
       "    <tr style=\"text-align: right;\">\n",
       "      <th></th>\n",
       "      <th>22</th>\n",
       "      <th>Anchor Inn</th>\n",
       "      <th>Upper Street, Stratford St Mary, COLCHESTER</th>\n",
       "      <th>CO7 6LW</th>\n",
       "      <th>604749</th>\n",
       "      <th>234404</th>\n",
       "      <th>51.970379</th>\n",
       "      <th>0.979340</th>\n",
       "      <th>Babergh</th>\n",
       "    </tr>\n",
       "  </thead>\n",
       "  <tbody>\n",
       "    <tr>\n",
       "      <th>0</th>\n",
       "      <td>36</td>\n",
       "      <td>Ark Bar Restaurant</td>\n",
       "      <td>Ark Bar And Restaurant, Cattawade Street, Bran...</td>\n",
       "      <td>CO11 1RH</td>\n",
       "      <td>610194</td>\n",
       "      <td>233329</td>\n",
       "      <td>51.958698</td>\n",
       "      <td>1.057832</td>\n",
       "      <td>Babergh</td>\n",
       "    </tr>\n",
       "    <tr>\n",
       "      <th>1</th>\n",
       "      <td>74</td>\n",
       "      <td>Black Boy</td>\n",
       "      <td>The Lady Elizabeth, 7 Market Hill, SUDBURY, Su...</td>\n",
       "      <td>CO10 2EA</td>\n",
       "      <td>587334</td>\n",
       "      <td>241316</td>\n",
       "      <td>52.038595</td>\n",
       "      <td>0.729915</td>\n",
       "      <td>Babergh</td>\n",
       "    </tr>\n",
       "    <tr>\n",
       "      <th>2</th>\n",
       "      <td>75</td>\n",
       "      <td>Black Horse</td>\n",
       "      <td>Lower Street, Stratford St Mary, COLCHESTER</td>\n",
       "      <td>CO7 6JS</td>\n",
       "      <td>622675</td>\n",
       "      <td>-5527598</td>\n",
       "      <td>\\N</td>\n",
       "      <td>\\N</td>\n",
       "      <td>Babergh</td>\n",
       "    </tr>\n",
       "    <tr>\n",
       "      <th>3</th>\n",
       "      <td>76</td>\n",
       "      <td>Black Lion</td>\n",
       "      <td>Lion Road, Glemsford, SUDBURY</td>\n",
       "      <td>CO10 7RF</td>\n",
       "      <td>622675</td>\n",
       "      <td>-5527598</td>\n",
       "      <td>\\N</td>\n",
       "      <td>\\N</td>\n",
       "      <td>Babergh</td>\n",
       "    </tr>\n",
       "    <tr>\n",
       "      <th>4</th>\n",
       "      <td>97</td>\n",
       "      <td>Brewers Arms</td>\n",
       "      <td>The Brewers Arms, Bower House Tye, Polstead, C...</td>\n",
       "      <td>CO6 5BZ</td>\n",
       "      <td>598743</td>\n",
       "      <td>240655</td>\n",
       "      <td>52.028694</td>\n",
       "      <td>0.895650</td>\n",
       "      <td>Babergh</td>\n",
       "    </tr>\n",
       "  </tbody>\n",
       "</table>\n",
       "</div>"
      ],
      "text/plain": [
       "   22          Anchor Inn        Upper Street, Stratford St Mary, COLCHESTER  \\\n",
       "0  36  Ark Bar Restaurant  Ark Bar And Restaurant, Cattawade Street, Bran...   \n",
       "1  74           Black Boy  The Lady Elizabeth, 7 Market Hill, SUDBURY, Su...   \n",
       "2  75         Black Horse        Lower Street, Stratford St Mary, COLCHESTER   \n",
       "3  76          Black Lion                      Lion Road, Glemsford, SUDBURY   \n",
       "4  97        Brewers Arms  The Brewers Arms, Bower House Tye, Polstead, C...   \n",
       "\n",
       "    CO7 6LW  604749   234404  51.970379  0.979340  Babergh  \n",
       "0  CO11 1RH  610194   233329  51.958698  1.057832  Babergh  \n",
       "1  CO10 2EA  587334   241316  52.038595  0.729915  Babergh  \n",
       "2   CO7 6JS  622675 -5527598         \\N        \\N  Babergh  \n",
       "3  CO10 7RF  622675 -5527598         \\N        \\N  Babergh  \n",
       "4   CO6 5BZ  598743   240655  52.028694  0.895650  Babergh  "
      ]
     },
     "execution_count": 4,
     "metadata": {},
     "output_type": "execute_result"
    }
   ],
   "source": [
    "df.head()"
   ]
  },
  {
   "cell_type": "code",
   "execution_count": 6,
   "id": "68dbd00b",
   "metadata": {},
   "outputs": [
    {
     "name": "stdout",
     "output_type": "stream",
     "text": [
      "<class 'pandas.core.frame.DataFrame'>\n",
      "RangeIndex: 51330 entries, 0 to 51329\n",
      "Data columns (total 9 columns):\n",
      " #   Column                                       Non-Null Count  Dtype \n",
      "---  ------                                       --------------  ----- \n",
      " 0   22                                           51330 non-null  int64 \n",
      " 1   Anchor Inn                                   51330 non-null  object\n",
      " 2   Upper Street, Stratford St Mary, COLCHESTER  51330 non-null  object\n",
      " 3   CO7 6LW                                      51330 non-null  object\n",
      " 4   604749                                       51330 non-null  int64 \n",
      " 5   234404                                       51330 non-null  int64 \n",
      " 6   51.970379                                    51330 non-null  object\n",
      " 7   0.979340                                     51330 non-null  object\n",
      " 8   Babergh                                      51330 non-null  object\n",
      "dtypes: int64(3), object(6)\n",
      "memory usage: 3.5+ MB\n"
     ]
    }
   ],
   "source": [
    "df.info()"
   ]
  },
  {
   "cell_type": "code",
   "execution_count": 11,
   "id": "b1e832e4",
   "metadata": {},
   "outputs": [
    {
     "data": {
      "text/plain": [
       "Index(['22', 'Anchor Inn', 'Upper Street, Stratford St Mary, COLCHESTER',\n",
       "       'CO7 6LW', '604749', '234404', '51.970379', '0.979340', 'Babergh'],\n",
       "      dtype='object')"
      ]
     },
     "execution_count": 11,
     "metadata": {},
     "output_type": "execute_result"
    }
   ],
   "source": [
    "df.columns"
   ]
  },
  {
   "cell_type": "code",
   "execution_count": 12,
   "id": "0c99b475",
   "metadata": {},
   "outputs": [],
   "source": [
    "# No columns names here  so we need to add them "
   ]
  },
  {
   "cell_type": "code",
   "execution_count": 40,
   "id": "e8c32d2e",
   "metadata": {},
   "outputs": [],
   "source": [
    "df.columns = ['fsa_id',\"name\",\"address\" ,\"postcode\", 'easting', 'northing' ,'latitude', 'longitude','local_authority']"
   ]
  },
  {
   "cell_type": "code",
   "execution_count": 41,
   "id": "fa73745c",
   "metadata": {},
   "outputs": [
    {
     "data": {
      "text/html": [
       "<div>\n",
       "<style scoped>\n",
       "    .dataframe tbody tr th:only-of-type {\n",
       "        vertical-align: middle;\n",
       "    }\n",
       "\n",
       "    .dataframe tbody tr th {\n",
       "        vertical-align: top;\n",
       "    }\n",
       "\n",
       "    .dataframe thead th {\n",
       "        text-align: right;\n",
       "    }\n",
       "</style>\n",
       "<table border=\"1\" class=\"dataframe\">\n",
       "  <thead>\n",
       "    <tr style=\"text-align: right;\">\n",
       "      <th></th>\n",
       "      <th>fsa_id</th>\n",
       "      <th>name</th>\n",
       "      <th>address</th>\n",
       "      <th>postcode</th>\n",
       "      <th>easting</th>\n",
       "      <th>northing</th>\n",
       "      <th>latitude</th>\n",
       "      <th>longitude</th>\n",
       "      <th>local_authority</th>\n",
       "    </tr>\n",
       "  </thead>\n",
       "  <tbody>\n",
       "    <tr>\n",
       "      <th>0</th>\n",
       "      <td>36</td>\n",
       "      <td>Ark Bar Restaurant</td>\n",
       "      <td>Ark Bar And Restaurant, Cattawade Street, Bran...</td>\n",
       "      <td>CO11 1RH</td>\n",
       "      <td>610194</td>\n",
       "      <td>233329</td>\n",
       "      <td>51.958698</td>\n",
       "      <td>1.057832</td>\n",
       "      <td>Babergh</td>\n",
       "    </tr>\n",
       "    <tr>\n",
       "      <th>1</th>\n",
       "      <td>74</td>\n",
       "      <td>Black Boy</td>\n",
       "      <td>The Lady Elizabeth, 7 Market Hill, SUDBURY, Su...</td>\n",
       "      <td>CO10 2EA</td>\n",
       "      <td>587334</td>\n",
       "      <td>241316</td>\n",
       "      <td>52.038595</td>\n",
       "      <td>0.729915</td>\n",
       "      <td>Babergh</td>\n",
       "    </tr>\n",
       "    <tr>\n",
       "      <th>2</th>\n",
       "      <td>75</td>\n",
       "      <td>Black Horse</td>\n",
       "      <td>Lower Street, Stratford St Mary, COLCHESTER</td>\n",
       "      <td>CO7 6JS</td>\n",
       "      <td>622675</td>\n",
       "      <td>-5527598</td>\n",
       "      <td>NaN</td>\n",
       "      <td>NaN</td>\n",
       "      <td>Babergh</td>\n",
       "    </tr>\n",
       "    <tr>\n",
       "      <th>3</th>\n",
       "      <td>76</td>\n",
       "      <td>Black Lion</td>\n",
       "      <td>Lion Road, Glemsford, SUDBURY</td>\n",
       "      <td>CO10 7RF</td>\n",
       "      <td>622675</td>\n",
       "      <td>-5527598</td>\n",
       "      <td>NaN</td>\n",
       "      <td>NaN</td>\n",
       "      <td>Babergh</td>\n",
       "    </tr>\n",
       "    <tr>\n",
       "      <th>4</th>\n",
       "      <td>97</td>\n",
       "      <td>Brewers Arms</td>\n",
       "      <td>The Brewers Arms, Bower House Tye, Polstead, C...</td>\n",
       "      <td>CO6 5BZ</td>\n",
       "      <td>598743</td>\n",
       "      <td>240655</td>\n",
       "      <td>52.028694</td>\n",
       "      <td>0.895650</td>\n",
       "      <td>Babergh</td>\n",
       "    </tr>\n",
       "  </tbody>\n",
       "</table>\n",
       "</div>"
      ],
      "text/plain": [
       "   fsa_id                name  \\\n",
       "0      36  Ark Bar Restaurant   \n",
       "1      74           Black Boy   \n",
       "2      75         Black Horse   \n",
       "3      76          Black Lion   \n",
       "4      97        Brewers Arms   \n",
       "\n",
       "                                             address  postcode  easting  \\\n",
       "0  Ark Bar And Restaurant, Cattawade Street, Bran...  CO11 1RH   610194   \n",
       "1  The Lady Elizabeth, 7 Market Hill, SUDBURY, Su...  CO10 2EA   587334   \n",
       "2        Lower Street, Stratford St Mary, COLCHESTER   CO7 6JS   622675   \n",
       "3                      Lion Road, Glemsford, SUDBURY  CO10 7RF   622675   \n",
       "4  The Brewers Arms, Bower House Tye, Polstead, C...   CO6 5BZ   598743   \n",
       "\n",
       "   northing   latitude longitude local_authority  \n",
       "0    233329  51.958698  1.057832         Babergh  \n",
       "1    241316  52.038595  0.729915         Babergh  \n",
       "2  -5527598        NaN       NaN         Babergh  \n",
       "3  -5527598        NaN       NaN         Babergh  \n",
       "4    240655  52.028694  0.895650         Babergh  "
      ]
     },
     "execution_count": 41,
     "metadata": {},
     "output_type": "execute_result"
    }
   ],
   "source": [
    "df.head()"
   ]
  },
  {
   "cell_type": "code",
   "execution_count": 42,
   "id": "91fa9116",
   "metadata": {},
   "outputs": [
    {
     "data": {
      "text/plain": [
       "(51330, 9)"
      ]
     },
     "execution_count": 42,
     "metadata": {},
     "output_type": "execute_result"
    }
   ],
   "source": [
    "df.shape"
   ]
  },
  {
   "cell_type": "code",
   "execution_count": 43,
   "id": "55f41b8a",
   "metadata": {},
   "outputs": [
    {
     "name": "stdout",
     "output_type": "stream",
     "text": [
      "Index(['fsa_id', 'name', 'address', 'postcode', 'easting', 'northing',\n",
      "       'latitude', 'longitude', 'local_authority'],\n",
      "      dtype='object')\n"
     ]
    }
   ],
   "source": [
    "print(df.columns)"
   ]
  },
  {
   "cell_type": "code",
   "execution_count": 44,
   "id": "a1bf8e70",
   "metadata": {},
   "outputs": [
    {
     "name": "stdout",
     "output_type": "stream",
     "text": [
      "<class 'pandas.core.frame.DataFrame'>\n",
      "RangeIndex: 51330 entries, 0 to 51329\n",
      "Data columns (total 9 columns):\n",
      " #   Column           Non-Null Count  Dtype \n",
      "---  ------           --------------  ----- \n",
      " 0   fsa_id           51330 non-null  int64 \n",
      " 1   name             51330 non-null  object\n",
      " 2   address          51330 non-null  object\n",
      " 3   postcode         51330 non-null  object\n",
      " 4   easting          51330 non-null  int64 \n",
      " 5   northing         51330 non-null  int64 \n",
      " 6   latitude         50563 non-null  object\n",
      " 7   longitude        50563 non-null  object\n",
      " 8   local_authority  51330 non-null  object\n",
      "dtypes: int64(3), object(6)\n",
      "memory usage: 3.5+ MB\n"
     ]
    }
   ],
   "source": [
    "df.info()"
   ]
  },
  {
   "cell_type": "code",
   "execution_count": 45,
   "id": "43dde977",
   "metadata": {},
   "outputs": [
    {
     "data": {
      "text/plain": [
       "fsa_id               0\n",
       "name                 0\n",
       "address              0\n",
       "postcode             0\n",
       "easting              0\n",
       "northing             0\n",
       "latitude           767\n",
       "longitude          767\n",
       "local_authority      0\n",
       "dtype: int64"
      ]
     },
     "execution_count": 45,
     "metadata": {},
     "output_type": "execute_result"
    }
   ],
   "source": [
    "df.isna().sum()"
   ]
  },
  {
   "cell_type": "code",
   "execution_count": 46,
   "id": "c2d18e1e",
   "metadata": {},
   "outputs": [
    {
     "data": {
      "text/plain": [
       "0         1.057832\n",
       "1         0.729915\n",
       "2              NaN\n",
       "3              NaN\n",
       "4         0.895650\n",
       "           ...    \n",
       "51325    -2.987319\n",
       "51326    -3.000485\n",
       "51327    -2.996966\n",
       "51328    -2.959124\n",
       "51329    -3.050512\n",
       "Name: longitude, Length: 51330, dtype: object"
      ]
     },
     "execution_count": 46,
     "metadata": {},
     "output_type": "execute_result"
    }
   ],
   "source": [
    "df['longitude']"
   ]
  },
  {
   "cell_type": "code",
   "execution_count": 47,
   "id": "deac6b04",
   "metadata": {},
   "outputs": [],
   "source": [
    "# replacing \\N as nan values as these are the missing values"
   ]
  },
  {
   "cell_type": "code",
   "execution_count": 48,
   "id": "54b531bf",
   "metadata": {},
   "outputs": [],
   "source": [
    "df.replace('\\\\N', np.nan, inplace=True)"
   ]
  },
  {
   "cell_type": "code",
   "execution_count": 49,
   "id": "ffa4dbb3",
   "metadata": {},
   "outputs": [
    {
     "data": {
      "text/plain": [
       "fsa_id               0\n",
       "name                 0\n",
       "address              0\n",
       "postcode             0\n",
       "easting              0\n",
       "northing             0\n",
       "latitude           767\n",
       "longitude          767\n",
       "local_authority      0\n",
       "dtype: int64"
      ]
     },
     "execution_count": 49,
     "metadata": {},
     "output_type": "execute_result"
    }
   ],
   "source": [
    "df.isna().sum()"
   ]
  },
  {
   "cell_type": "code",
   "execution_count": 50,
   "id": "f6d42bff",
   "metadata": {},
   "outputs": [],
   "source": [
    "#dropping missing values\n",
    "df.dropna(axis=0, inplace=True)"
   ]
  },
  {
   "cell_type": "code",
   "execution_count": 53,
   "id": "9225f2b7",
   "metadata": {},
   "outputs": [
    {
     "data": {
      "text/plain": [
       "fsa_id             0\n",
       "name               0\n",
       "address            0\n",
       "postcode           0\n",
       "easting            0\n",
       "northing           0\n",
       "latitude           0\n",
       "longitude          0\n",
       "local_authority    0\n",
       "dtype: int64"
      ]
     },
     "execution_count": 53,
     "metadata": {},
     "output_type": "execute_result"
    }
   ],
   "source": [
    "df.isna().sum()"
   ]
  },
  {
   "cell_type": "code",
   "execution_count": 54,
   "id": "197fc475",
   "metadata": {},
   "outputs": [
    {
     "name": "stdout",
     "output_type": "stream",
     "text": [
      "<class 'pandas.core.frame.DataFrame'>\n",
      "Int64Index: 50563 entries, 0 to 51329\n",
      "Data columns (total 9 columns):\n",
      " #   Column           Non-Null Count  Dtype \n",
      "---  ------           --------------  ----- \n",
      " 0   fsa_id           50563 non-null  int64 \n",
      " 1   name             50563 non-null  object\n",
      " 2   address          50563 non-null  object\n",
      " 3   postcode         50563 non-null  object\n",
      " 4   easting          50563 non-null  int64 \n",
      " 5   northing         50563 non-null  int64 \n",
      " 6   latitude         50563 non-null  object\n",
      " 7   longitude        50563 non-null  object\n",
      " 8   local_authority  50563 non-null  object\n",
      "dtypes: int64(3), object(6)\n",
      "memory usage: 3.9+ MB\n"
     ]
    }
   ],
   "source": [
    "df.info()"
   ]
  },
  {
   "cell_type": "code",
   "execution_count": 56,
   "id": "30dcf7cb",
   "metadata": {},
   "outputs": [
    {
     "data": {
      "text/plain": [
       "fsa_id              int64\n",
       "name               object\n",
       "address            object\n",
       "postcode           object\n",
       "easting             int64\n",
       "northing            int64\n",
       "latitude           object\n",
       "longitude          object\n",
       "local_authority    object\n",
       "dtype: object"
      ]
     },
     "execution_count": 56,
     "metadata": {},
     "output_type": "execute_result"
    }
   ],
   "source": [
    "df.dtypes"
   ]
  },
  {
   "cell_type": "code",
   "execution_count": 63,
   "id": "40a86f2c",
   "metadata": {},
   "outputs": [],
   "source": [
    "# changing into float\n",
    "df['latitude'] = df['latitude'].astype(float)\n",
    "df['longitude'] = df['longitude'].astype(float)"
   ]
  },
  {
   "cell_type": "code",
   "execution_count": 62,
   "id": "687f3e64",
   "metadata": {},
   "outputs": [
    {
     "data": {
      "text/plain": [
       "fsa_id               int64\n",
       "name                object\n",
       "address             object\n",
       "postcode            object\n",
       "easting              int64\n",
       "northing             int64\n",
       "latitude           float64\n",
       "longitude          float64\n",
       "local_authority     object\n",
       "dtype: object"
      ]
     },
     "execution_count": 62,
     "metadata": {},
     "output_type": "execute_result"
    }
   ],
   "source": [
    "df.dtypes"
   ]
  },
  {
   "cell_type": "code",
   "execution_count": 65,
   "id": "d158d580",
   "metadata": {},
   "outputs": [],
   "source": [
    "#converting latitude and longitude into an array so that we can calculate distance easily\n",
    "arr = np.array([df['latitude'],df['longitude']]).T"
   ]
  },
  {
   "cell_type": "code",
   "execution_count": 66,
   "id": "efb6e4c8",
   "metadata": {},
   "outputs": [
    {
     "data": {
      "text/plain": [
       "array([[51.958698,  1.057832],\n",
       "       [52.038595,  0.729915],\n",
       "       [52.028694,  0.89565 ],\n",
       "       ...,\n",
       "       [53.044998, -2.996966],\n",
       "       [53.053094, -2.959124],\n",
       "       [53.076638, -3.050512]])"
      ]
     },
     "execution_count": 66,
     "metadata": {},
     "output_type": "execute_result"
    }
   ],
   "source": [
    "arr"
   ]
  },
  {
   "cell_type": "code",
   "execution_count": 79,
   "id": "1b6e114e",
   "metadata": {},
   "outputs": [
    {
     "name": "stdout",
     "output_type": "stream",
     "text": [
      "25.45\n",
      "47.545\n"
     ]
    },
    {
     "data": {
      "text/plain": [
       "array([[25.45 , 47.545]])"
      ]
     },
     "execution_count": 79,
     "metadata": {},
     "output_type": "execute_result"
    }
   ],
   "source": [
    "# Taking input by latitude and longitde \n",
    "lat = float(input())\n",
    "lon = float(input())\n",
    "input_coor = np.array([[lat,lon]])\n",
    "input_coor"
   ]
  },
  {
   "cell_type": "code",
   "execution_count": 80,
   "id": "ae669dbd",
   "metadata": {},
   "outputs": [],
   "source": [
    "distance = np.sum ((arr-input_coor)**2 , axis =1 )"
   ]
  },
  {
   "cell_type": "code",
   "execution_count": 81,
   "id": "e4f5b300",
   "metadata": {},
   "outputs": [],
   "source": [
    "df['Distance'] = distance"
   ]
  },
  {
   "cell_type": "code",
   "execution_count": 82,
   "id": "457bbd79",
   "metadata": {},
   "outputs": [
    {
     "data": {
      "text/html": [
       "<div>\n",
       "<style scoped>\n",
       "    .dataframe tbody tr th:only-of-type {\n",
       "        vertical-align: middle;\n",
       "    }\n",
       "\n",
       "    .dataframe tbody tr th {\n",
       "        vertical-align: top;\n",
       "    }\n",
       "\n",
       "    .dataframe thead th {\n",
       "        text-align: right;\n",
       "    }\n",
       "</style>\n",
       "<table border=\"1\" class=\"dataframe\">\n",
       "  <thead>\n",
       "    <tr style=\"text-align: right;\">\n",
       "      <th></th>\n",
       "      <th>fsa_id</th>\n",
       "      <th>name</th>\n",
       "      <th>address</th>\n",
       "      <th>postcode</th>\n",
       "      <th>easting</th>\n",
       "      <th>northing</th>\n",
       "      <th>latitude</th>\n",
       "      <th>longitude</th>\n",
       "      <th>local_authority</th>\n",
       "      <th>Distance</th>\n",
       "    </tr>\n",
       "  </thead>\n",
       "  <tbody>\n",
       "    <tr>\n",
       "      <th>0</th>\n",
       "      <td>36</td>\n",
       "      <td>Ark Bar Restaurant</td>\n",
       "      <td>Ark Bar And Restaurant, Cattawade Street, Bran...</td>\n",
       "      <td>CO11 1RH</td>\n",
       "      <td>610194</td>\n",
       "      <td>233329</td>\n",
       "      <td>51.958698</td>\n",
       "      <td>1.057832</td>\n",
       "      <td>Babergh</td>\n",
       "      <td>2863.767858</td>\n",
       "    </tr>\n",
       "    <tr>\n",
       "      <th>1</th>\n",
       "      <td>74</td>\n",
       "      <td>Black Boy</td>\n",
       "      <td>The Lady Elizabeth, 7 Market Hill, SUDBURY, Su...</td>\n",
       "      <td>CO10 2EA</td>\n",
       "      <td>587334</td>\n",
       "      <td>241316</td>\n",
       "      <td>52.038595</td>\n",
       "      <td>0.729915</td>\n",
       "      <td>Babergh</td>\n",
       "      <td>2898.605568</td>\n",
       "    </tr>\n",
       "    <tr>\n",
       "      <th>4</th>\n",
       "      <td>97</td>\n",
       "      <td>Brewers Arms</td>\n",
       "      <td>The Brewers Arms, Bower House Tye, Polstead, C...</td>\n",
       "      <td>CO6 5BZ</td>\n",
       "      <td>598743</td>\n",
       "      <td>240655</td>\n",
       "      <td>52.028694</td>\n",
       "      <td>0.895650</td>\n",
       "      <td>Babergh</td>\n",
       "      <td>2882.588830</td>\n",
       "    </tr>\n",
       "    <tr>\n",
       "      <th>5</th>\n",
       "      <td>102</td>\n",
       "      <td>Bristol Arms</td>\n",
       "      <td>Bristol Hill, Shotley, IPSWICH</td>\n",
       "      <td>IP9 1PU</td>\n",
       "      <td>624624</td>\n",
       "      <td>233550</td>\n",
       "      <td>51.955042</td>\n",
       "      <td>1.267642</td>\n",
       "      <td>Babergh</td>\n",
       "      <td>2844.111115</td>\n",
       "    </tr>\n",
       "    <tr>\n",
       "      <th>6</th>\n",
       "      <td>122</td>\n",
       "      <td>Caffeine Lounge</td>\n",
       "      <td>14 Borehamgate Shopping Precinct, King Street,...</td>\n",
       "      <td>CO10 2ED</td>\n",
       "      <td>587527</td>\n",
       "      <td>241247</td>\n",
       "      <td>52.037903</td>\n",
       "      <td>0.732687</td>\n",
       "      <td>Babergh</td>\n",
       "      <td>2898.309234</td>\n",
       "    </tr>\n",
       "  </tbody>\n",
       "</table>\n",
       "</div>"
      ],
      "text/plain": [
       "   fsa_id                name  \\\n",
       "0      36  Ark Bar Restaurant   \n",
       "1      74           Black Boy   \n",
       "4      97        Brewers Arms   \n",
       "5     102        Bristol Arms   \n",
       "6     122     Caffeine Lounge   \n",
       "\n",
       "                                             address  postcode  easting  \\\n",
       "0  Ark Bar And Restaurant, Cattawade Street, Bran...  CO11 1RH   610194   \n",
       "1  The Lady Elizabeth, 7 Market Hill, SUDBURY, Su...  CO10 2EA   587334   \n",
       "4  The Brewers Arms, Bower House Tye, Polstead, C...   CO6 5BZ   598743   \n",
       "5                     Bristol Hill, Shotley, IPSWICH   IP9 1PU   624624   \n",
       "6  14 Borehamgate Shopping Precinct, King Street,...  CO10 2ED   587527   \n",
       "\n",
       "   northing   latitude  longitude local_authority     Distance  \n",
       "0    233329  51.958698   1.057832         Babergh  2863.767858  \n",
       "1    241316  52.038595   0.729915         Babergh  2898.605568  \n",
       "4    240655  52.028694   0.895650         Babergh  2882.588830  \n",
       "5    233550  51.955042   1.267642         Babergh  2844.111115  \n",
       "6    241247  52.037903   0.732687         Babergh  2898.309234  "
      ]
     },
     "execution_count": 82,
     "metadata": {},
     "output_type": "execute_result"
    }
   ],
   "source": [
    "df.head()"
   ]
  },
  {
   "cell_type": "code",
   "execution_count": 59,
   "id": "138fe77d",
   "metadata": {},
   "outputs": [],
   "source": [
    "# saving cleaned data\n",
    "df.to_csv(r\"C:\\Users\\bhask\\Desktop\\DATA SCIENCE AND ANALYTICS\\Internship_Inno\\FLASK\\Pub_Nearest_project\\resources\\open_pubs_cleaned.csv\")"
   ]
  },
  {
   "cell_type": "code",
   "execution_count": 83,
   "id": "d67a2f71",
   "metadata": {},
   "outputs": [
    {
     "data": {
      "text/html": [
       "<div>\n",
       "<style scoped>\n",
       "    .dataframe tbody tr th:only-of-type {\n",
       "        vertical-align: middle;\n",
       "    }\n",
       "\n",
       "    .dataframe tbody tr th {\n",
       "        vertical-align: top;\n",
       "    }\n",
       "\n",
       "    .dataframe thead th {\n",
       "        text-align: right;\n",
       "    }\n",
       "</style>\n",
       "<table border=\"1\" class=\"dataframe\">\n",
       "  <thead>\n",
       "    <tr style=\"text-align: right;\">\n",
       "      <th></th>\n",
       "      <th>fsa_id</th>\n",
       "      <th>name</th>\n",
       "      <th>address</th>\n",
       "      <th>postcode</th>\n",
       "      <th>easting</th>\n",
       "      <th>northing</th>\n",
       "      <th>latitude</th>\n",
       "      <th>longitude</th>\n",
       "      <th>local_authority</th>\n",
       "      <th>Distance</th>\n",
       "    </tr>\n",
       "  </thead>\n",
       "  <tbody>\n",
       "    <tr>\n",
       "      <th>23766</th>\n",
       "      <td>280523</td>\n",
       "      <td>Walmer and Kingsdown Golf Club</td>\n",
       "      <td>The Leas, Kingsdown, Kent</td>\n",
       "      <td>CT14 8EP</td>\n",
       "      <td>637961</td>\n",
       "      <td>147673</td>\n",
       "      <td>51.178730</td>\n",
       "      <td>1.403257</td>\n",
       "      <td>Dover</td>\n",
       "      <td>2791.027994</td>\n",
       "    </tr>\n",
       "    <tr>\n",
       "      <th>23720</th>\n",
       "      <td>280342</td>\n",
       "      <td>The Coastguard Inn</td>\n",
       "      <td>The Bay, St Margarets Bay, Kent</td>\n",
       "      <td>CT15 6DY</td>\n",
       "      <td>637028</td>\n",
       "      <td>144676</td>\n",
       "      <td>51.152225</td>\n",
       "      <td>1.387974</td>\n",
       "      <td>Dover</td>\n",
       "      <td>2791.075419</td>\n",
       "    </tr>\n",
       "    <tr>\n",
       "      <th>23771</th>\n",
       "      <td>280587</td>\n",
       "      <td>Zetland Arms</td>\n",
       "      <td>Wellington Parade, Kingsdown, Kent</td>\n",
       "      <td>CT14 8AF</td>\n",
       "      <td>637990</td>\n",
       "      <td>148682</td>\n",
       "      <td>51.187776</td>\n",
       "      <td>1.404353</td>\n",
       "      <td>Dover</td>\n",
       "      <td>2791.392419</td>\n",
       "    </tr>\n",
       "    <tr>\n",
       "      <th>23683</th>\n",
       "      <td>280103</td>\n",
       "      <td>Rising Sun</td>\n",
       "      <td>Cliffe Road, Kingsdown, Kent</td>\n",
       "      <td>CT14 8AH</td>\n",
       "      <td>637918</td>\n",
       "      <td>148494</td>\n",
       "      <td>51.186118</td>\n",
       "      <td>1.403200</td>\n",
       "      <td>Dover</td>\n",
       "      <td>2791.413477</td>\n",
       "    </tr>\n",
       "    <tr>\n",
       "      <th>23656</th>\n",
       "      <td>279727</td>\n",
       "      <td>Goodwins Suite (Reception)</td>\n",
       "      <td>Kingsdown Park Holiday Village, Upper Street, ...</td>\n",
       "      <td>CT14 8EU</td>\n",
       "      <td>637873</td>\n",
       "      <td>148396</td>\n",
       "      <td>51.185258</td>\n",
       "      <td>1.402478</td>\n",
       "      <td>Dover</td>\n",
       "      <td>2791.435841</td>\n",
       "    </tr>\n",
       "  </tbody>\n",
       "</table>\n",
       "</div>"
      ],
      "text/plain": [
       "       fsa_id                            name  \\\n",
       "23766  280523  Walmer and Kingsdown Golf Club   \n",
       "23720  280342              The Coastguard Inn   \n",
       "23771  280587                    Zetland Arms   \n",
       "23683  280103                      Rising Sun   \n",
       "23656  279727      Goodwins Suite (Reception)   \n",
       "\n",
       "                                                 address  postcode  easting  \\\n",
       "23766                          The Leas, Kingsdown, Kent  CT14 8EP   637961   \n",
       "23720                    The Bay, St Margarets Bay, Kent  CT15 6DY   637028   \n",
       "23771                 Wellington Parade, Kingsdown, Kent  CT14 8AF   637990   \n",
       "23683                       Cliffe Road, Kingsdown, Kent  CT14 8AH   637918   \n",
       "23656  Kingsdown Park Holiday Village, Upper Street, ...  CT14 8EU   637873   \n",
       "\n",
       "       northing   latitude  longitude local_authority     Distance  \n",
       "23766    147673  51.178730   1.403257           Dover  2791.027994  \n",
       "23720    144676  51.152225   1.387974           Dover  2791.075419  \n",
       "23771    148682  51.187776   1.404353           Dover  2791.392419  \n",
       "23683    148494  51.186118   1.403200           Dover  2791.413477  \n",
       "23656    148396  51.185258   1.402478           Dover  2791.435841  "
      ]
     },
     "execution_count": 83,
     "metadata": {},
     "output_type": "execute_result"
    }
   ],
   "source": [
    "df.sort_values(by = \"Distance\", ascending = True)[ : 5]"
   ]
  },
  {
   "cell_type": "markdown",
   "id": "b6351499",
   "metadata": {},
   "source": [
    "### The above are the nearest pub locations"
   ]
  },
  {
   "cell_type": "code",
   "execution_count": 85,
   "id": "7db29b82",
   "metadata": {},
   "outputs": [
    {
     "data": {
      "image/png": "[encoded data removed]",
      "text/plain": [
       "<Figure size 720x360 with 1 Axes>"
      ]
     },
     "metadata": {
      "needs_background": "light"
     },
     "output_type": "display_data"
    }
   ],
   "source": [
    "df['local_authority'].value_counts().head(15).sort_values().plot(kind='barh',  figsize=(10,5), title=\"Top 15 Locations with have more pubs\")\n",
    "plt.savefig('pubs_by_location.png', dpi=300, bbox_inches='tight')\n",
    "plt.show()"
   ]
  },
  {
   "cell_type": "code",
   "execution_count": null,
   "id": "71e5f8a1",
   "metadata": {},
   "outputs": [],
   "source": []
  }
 ],
 "metadata": {
  "kernelspec": {
   "display_name": "Python 3 (ipykernel)",
   "language": "python",
   "name": "python3"
  },
  "language_info": {
   "codemirror_mode": {
    "name": "ipython",
    "version": 3
   },
   "file_extension": ".py",
   "mimetype": "text/x-python",
   "name": "python",
   "nbconvert_exporter": "python",
   "pygments_lexer": "ipython3",
   "version": "3.9.12"
  }
 },
 "nbformat": 4,
 "nbformat_minor": 5
}
